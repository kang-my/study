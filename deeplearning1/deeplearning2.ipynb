{
 "metadata": {
  "language_info": {
   "codemirror_mode": {
    "name": "ipython",
    "version": 3
   },
   "file_extension": ".py",
   "mimetype": "text/x-python",
   "name": "python",
   "nbconvert_exporter": "python",
   "pygments_lexer": "ipython3",
   "version": "3.8.3-final"
  },
  "orig_nbformat": 2,
  "kernelspec": {
   "name": "python3",
   "display_name": "Python 3",
   "language": "python"
  }
 },
 "nbformat": 4,
 "nbformat_minor": 2,
 "cells": [
  {
   "source": [
    "## ch2 퍼셉트론"
   ],
   "cell_type": "markdown",
   "metadata": {}
  },
  {
   "cell_type": "code",
   "execution_count": 1,
   "metadata": {},
   "outputs": [
    {
     "output_type": "execute_result",
     "data": {
      "text/plain": [
       "0"
      ]
     },
     "metadata": {},
     "execution_count": 1
    }
   ],
   "source": [
    "# AND 회로\n",
    "def AND(x1, x2):\n",
    "    w1, w2, theta=0.5, 0.5, 0.7\n",
    "    tmp=x1*w1 + x2*w2\n",
    "    if tmp<=theta:\n",
    "        return 0\n",
    "    elif tme>theta:\n",
    "        return 1\n",
    "print(AND(0,1))"
   ]
  },
  {
   "cell_type": "code",
   "execution_count": 5,
   "metadata": {},
   "outputs": [],
   "source": [
    "# AND회로 + 가중치, 편향\n",
    "import numpy as np\n",
    "def b_AND(x1, x2):\n",
    "    x=np.array([x1, x2])\n",
    "    w=np.array([0.5, 0.5])\n",
    "    b=-0.7\n",
    "    tmp = np.sum(x*w)+b\n",
    "    if tmp <=0:\n",
    "        return 0\n",
    "    elif tmp>0:\n",
    "        return 1"
   ]
  },
  {
   "cell_type": "code",
   "execution_count": null,
   "metadata": {},
   "outputs": [],
   "source": [
    "# XOR gate 구현 # 덧셈 계산기\n",
    "def XOR(x1, x2):\n",
    "    s1=NAND(x1, x2)\n",
    "    s2=OR(x1, x2)\n",
    "    y=AND(s1, s2)\n",
    "    return y"
   ]
  }
 ]
}