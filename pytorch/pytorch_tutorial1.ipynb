{
  "nbformat": 4,
  "nbformat_minor": 0,
  "metadata": {
    "kernelspec": {
      "display_name": "Python 3",
      "language": "python",
      "name": "python3"
    },
    "language_info": {
      "codemirror_mode": {
        "name": "ipython",
        "version": 3
      },
      "file_extension": ".py",
      "mimetype": "text/x-python",
      "name": "python",
      "nbconvert_exporter": "python",
      "pygments_lexer": "ipython3",
      "version": "3.6.6"
    },
    "colab": {
      "name": "tensor_tutorial.ipynb",
      "provenance": []
    }
  },
  "cells": [
    {
      "cell_type": "markdown",
      "metadata": {
        "id": "p7PsywmVMtNW"
      },
      "source": [
        "## 텐서 기본 정의, 연산, Numpy변환"
      ]
    },
    {
      "cell_type": "code",
      "metadata": {
        "id": "LfhYCJZcqxGD"
      },
      "source": [
        "%matplotlib inline"
      ],
      "execution_count": null,
      "outputs": []
    },
    {
      "cell_type": "markdown",
      "metadata": {
        "id": "Yz8zHWlaqxGI"
      },
      "source": [
        "\n",
        "## pytorch 튜토리얼 정리 \n",
        "\n",
        "목표  \n",
        "• 높은 수준에서 PyTorch의 Tensor library와 신경망(Neural Network)를 이해  \n",
        "• 이미지를 분류하는 작은 신경망을 학습  \n",
        "\n",
        "\n",
        "PyTorch란?  \n",
        "Python 기반의 과학 연산 패키지  \n",
        "• NumPy를 대체, GPU를 이용한 연산  \n",
        "• 최대한의 유연성과 속도를 제공하는 딥러닝 연구 플랫폼이 필요한 경우"
      ]
    },
    {
      "cell_type": "markdown",
      "metadata": {
        "id": "HgXtj5uTvkKI"
      },
      "source": [
        "## Tensor"
      ]
    },
    {
      "cell_type": "code",
      "metadata": {
        "id": "dZFGZj8rqxGJ"
      },
      "source": [
        "from __future__ import print_function # 파이썬2,3 어떤 버전을 돌리던 모두 파이썬 문법으로 출력 가능\n",
        "import torch"
      ],
      "execution_count": 1,
      "outputs": []
    },
    {
      "cell_type": "code",
      "metadata": {
        "id": "FEg89yGirMP4"
      },
      "source": [
        ""
      ],
      "execution_count": 1,
      "outputs": []
    },
    {
      "cell_type": "markdown",
      "metadata": {
        "id": "P8l0QCQxqxGJ"
      },
      "source": [
        "초기화 되지 않은 5x3 행렬 생성\n",
        "\n"
      ]
    },
    {
      "cell_type": "code",
      "metadata": {
        "id": "5SQmG5K9qxGJ",
        "outputId": "f99b9205-d0bd-4e81-e4a9-08dd40e23fdb",
        "colab": {
          "base_uri": "https://localhost:8080/"
        }
      },
      "source": [
        "x = torch.empty(5, 3)\n",
        "print(x)"
      ],
      "execution_count": 2,
      "outputs": [
        {
          "output_type": "stream",
          "text": [
            "tensor([[6.0225e-36, 0.0000e+00, 3.3631e-44],\n",
            "        [0.0000e+00,        nan, 0.0000e+00],\n",
            "        [1.1578e+27, 1.1362e+30, 7.1547e+22],\n",
            "        [4.5828e+30, 1.2121e+04, 7.1846e+22],\n",
            "        [9.2198e-39, 7.0374e+22, 2.2003e-36]])\n"
          ],
          "name": "stdout"
        }
      ]
    },
    {
      "cell_type": "markdown",
      "metadata": {
        "id": "I5468-sxqxGK"
      },
      "source": [
        "무작위로 초기화된 행렬 생성\n",
        "\n"
      ]
    },
    {
      "cell_type": "code",
      "metadata": {
        "id": "XEq2UOB0qxGK",
        "outputId": "5dbdafa3-df27-43f0-dbfb-ee314e8b37c1",
        "colab": {
          "base_uri": "https://localhost:8080/"
        }
      },
      "source": [
        "x = torch.rand(5, 3) # 0~1 사이의 숫자\n",
        "print(x)"
      ],
      "execution_count": 3,
      "outputs": [
        {
          "output_type": "stream",
          "text": [
            "tensor([[0.2149, 0.3929, 0.1520],\n",
            "        [0.8440, 0.5025, 0.4160],\n",
            "        [0.3561, 0.8950, 0.2780],\n",
            "        [0.7641, 0.6011, 0.2917],\n",
            "        [0.3386, 0.2547, 0.9494]])\n"
          ],
          "name": "stdout"
        }
      ]
    },
    {
      "cell_type": "markdown",
      "metadata": {
        "id": "x5sDGGQkqxGK"
      },
      "source": [
        "dtype = long, 0으로 초기화된 행렬\n"
      ]
    },
    {
      "cell_type": "code",
      "metadata": {
        "id": "J-sFPs4PqxGK",
        "outputId": "83c64887-b174-431f-f40a-64c47b06b4d9",
        "colab": {
          "base_uri": "https://localhost:8080/"
        }
      },
      "source": [
        "x = torch.zeros(5, 3, dtype=torch.long)\n",
        "# touch.ones 해서 넣으면 모든 값을 1로 넣음\n",
        "print(x)"
      ],
      "execution_count": 4,
      "outputs": [
        {
          "output_type": "stream",
          "text": [
            "tensor([[0, 0, 0],\n",
            "        [0, 0, 0],\n",
            "        [0, 0, 0],\n",
            "        [0, 0, 0],\n",
            "        [0, 0, 0]])\n"
          ],
          "name": "stdout"
        }
      ]
    },
    {
      "cell_type": "markdown",
      "metadata": {
        "id": "UGN1CFONqxGL"
      },
      "source": [
        "tensor(데이터의 행렬)값을 직접 주기"
      ]
    },
    {
      "cell_type": "code",
      "metadata": {
        "id": "85LD1SknqxGL",
        "outputId": "981ce944-e34d-4710-fb90-397acc202d31",
        "colab": {
          "base_uri": "https://localhost:8080/"
        }
      },
      "source": [
        "x = torch.tensor([5.5, 3])\n",
        "print(x)"
      ],
      "execution_count": 5,
      "outputs": [
        {
          "output_type": "stream",
          "text": [
            "tensor([5.5000, 3.0000])\n"
          ],
          "name": "stdout"
        }
      ]
    },
    {
      "cell_type": "markdown",
      "metadata": {
        "id": "ueRMVtW1qxGL"
      },
      "source": [
        "기존 tensor 바탕으로 새로운 tensor 생성\n",
        "새로운 값을 제공받지 않는 한 입력 tensor의 속성 재사용\n"
      ]
    },
    {
      "cell_type": "code",
      "metadata": {
        "id": "mUO_I6fNqxGL",
        "outputId": "4ee15e7a-837d-425c-c128-9e9c347bab89",
        "colab": {
          "base_uri": "https://localhost:8080/"
        }
      },
      "source": [
        "x = x.new_ones(5, 3, dtype=torch.double)      # new_* method 사이즈를 받음\n",
        "\n",
        "print(x)\n",
        "\n",
        "# 평균 0 정규 분포로부터 임의의 숫자로 채워만든 tensor\n",
        "# 아레에 like(x, ~) 에 있는 x의 크기를 받아오기 위해 사용\n",
        "x = torch.randn_like(x, dtype=torch.float)    # override dtype!\n",
        "print(x)                                      # 결과적으로 동일한 크기를 가짐\n",
        "\n",
        "# 사이즈 출력\n",
        "print(x.size())"
      ],
      "execution_count": 6,
      "outputs": [
        {
          "output_type": "stream",
          "text": [
            "tensor([[1., 1., 1.],\n",
            "        [1., 1., 1.],\n",
            "        [1., 1., 1.],\n",
            "        [1., 1., 1.],\n",
            "        [1., 1., 1.]], dtype=torch.float64)\n",
            "tensor([[-0.7239, -0.7691, -0.3634],\n",
            "        [ 0.4168, -0.5937, -0.1780],\n",
            "        [ 0.6938, -0.2897,  0.2882],\n",
            "        [-0.9865, -0.9835, -1.1647],\n",
            "        [-0.3904, -0.4180, -2.9102]])\n",
            "torch.Size([5, 3])\n"
          ],
          "name": "stdout"
        }
      ]
    },
    {
      "cell_type": "markdown",
      "metadata": {
        "id": "wqSQmW4-qxGM"
      },
      "source": [
        "torch.size() # 튜플 타입, 모든 튜플 연산 지원"
      ]
    },
    {
      "cell_type": "markdown",
      "metadata": {
        "id": "hUolRx8BvpD3"
      },
      "source": [
        "## 연산"
      ]
    },
    {
      "cell_type": "code",
      "metadata": {
        "id": "Yxd8nl3rqxGM",
        "outputId": "685dd4f0-f6a4-4920-a5ba-633257d4bfb7",
        "colab": {
          "base_uri": "https://localhost:8080/"
        }
      },
      "source": [
        "# 덧셈문법1\n",
        "y = torch.rand(5, 3)\n",
        "print(x + y)"
      ],
      "execution_count": 7,
      "outputs": [
        {
          "output_type": "stream",
          "text": [
            "tensor([[-0.3910, -0.0771, -0.2365],\n",
            "        [ 1.3655, -0.0396,  0.8213],\n",
            "        [ 0.7856,  0.4156,  1.2339],\n",
            "        [-0.8764, -0.1567, -0.6121],\n",
            "        [ 0.4733,  0.2814, -2.2974]])\n"
          ],
          "name": "stdout"
        }
      ]
    },
    {
      "cell_type": "code",
      "metadata": {
        "id": "DFC-LVJmqxGN",
        "outputId": "563b03ad-c242-4cad-f87b-70450d34a606",
        "colab": {
          "base_uri": "https://localhost:8080/"
        }
      },
      "source": [
        "# 덧셈문법2\r\n",
        "print(torch.add(x, y))"
      ],
      "execution_count": 8,
      "outputs": [
        {
          "output_type": "stream",
          "text": [
            "tensor([[-0.3910, -0.0771, -0.2365],\n",
            "        [ 1.3655, -0.0396,  0.8213],\n",
            "        [ 0.7856,  0.4156,  1.2339],\n",
            "        [-0.8764, -0.1567, -0.6121],\n",
            "        [ 0.4733,  0.2814, -2.2974]])\n"
          ],
          "name": "stdout"
        }
      ]
    },
    {
      "cell_type": "markdown",
      "metadata": {
        "id": "rg3ophMMqxGN"
      },
      "source": [
        "덧셈 : 결과 tensor를 인자로 제공"
      ]
    },
    {
      "cell_type": "code",
      "metadata": {
        "id": "TCKz8CGTqxGN",
        "outputId": "ba13066b-09fd-444b-fcaa-ae7083bff8f4",
        "colab": {
          "base_uri": "https://localhost:8080/"
        }
      },
      "source": [
        "result = torch.empty(5, 3)\n",
        "torch.add(x, y, out=result)\n",
        "print(result)"
      ],
      "execution_count": 9,
      "outputs": [
        {
          "output_type": "stream",
          "text": [
            "tensor([[-0.3910, -0.0771, -0.2365],\n",
            "        [ 1.3655, -0.0396,  0.8213],\n",
            "        [ 0.7856,  0.4156,  1.2339],\n",
            "        [-0.8764, -0.1567, -0.6121],\n",
            "        [ 0.4733,  0.2814, -2.2974]])\n"
          ],
          "name": "stdout"
        }
      ]
    },
    {
      "cell_type": "markdown",
      "metadata": {
        "id": "u_pnoGMYqxGN"
      },
      "source": [
        "덧셈 : 바꿔치기(in-place) 방식\n",
        "\n"
      ]
    },
    {
      "cell_type": "code",
      "metadata": {
        "id": "8LTWijlRqxGN",
        "outputId": "ff1a376c-7a94-43c6-b3b9-704b9bdecf01",
        "colab": {
          "base_uri": "https://localhost:8080/"
        }
      },
      "source": [
        "# y에 x더해서 y에 넣기\n",
        "y.add_(x)\n",
        "print(y)"
      ],
      "execution_count": 10,
      "outputs": [
        {
          "output_type": "stream",
          "text": [
            "tensor([[-0.3910, -0.0771, -0.2365],\n",
            "        [ 1.3655, -0.0396,  0.8213],\n",
            "        [ 0.7856,  0.4156,  1.2339],\n",
            "        [-0.8764, -0.1567, -0.6121],\n",
            "        [ 0.4733,  0.2814, -2.2974]])\n"
          ],
          "name": "stdout"
        }
      ]
    },
    {
      "cell_type": "markdown",
      "metadata": {
        "id": "6VPA1uhYqxGO"
      },
      "source": [
        "바꿔치기(in-place) 방식으로 tensor의 값을 변경하는 연산 뒤에는 '_'가 붙는다\n"
      ]
    },
    {
      "cell_type": "code",
      "metadata": {
        "id": "uyC2zI5LqxGO",
        "outputId": "1de70af2-c8c3-44be-8334-88fdb5d50fd8",
        "colab": {
          "base_uri": "https://localhost:8080/"
        }
      },
      "source": [
        "# numpy스러운 인덱싱 표기 방법 사용 가능\r\n",
        "print(x[:, 1])"
      ],
      "execution_count": 11,
      "outputs": [
        {
          "output_type": "stream",
          "text": [
            "tensor([-0.7691, -0.5937, -0.2897, -0.9835, -0.4180])\n"
          ],
          "name": "stdout"
        }
      ]
    },
    {
      "cell_type": "markdown",
      "metadata": {
        "id": "yaPHe1pTqxGO"
      },
      "source": [
        "크기 변경 : tensor의 크기나 모양을 변경하고 싶을 때 touch.view 사용"
      ]
    },
    {
      "cell_type": "code",
      "metadata": {
        "id": "eIsAMVcnqxGO",
        "outputId": "3b3c77b5-bd3e-40aa-b90b-3c6376739154",
        "colab": {
          "base_uri": "https://localhost:8080/"
        }
      },
      "source": [
        "x = torch.randn(4, 4)\n",
        "y = x.view(16)\n",
        "z = x.view(-1, 8)  # -1은 다른 차원에서 유추\n",
        "print(x.size(), y.size(), z.size())"
      ],
      "execution_count": 12,
      "outputs": [
        {
          "output_type": "stream",
          "text": [
            "torch.Size([4, 4]) torch.Size([16]) torch.Size([2, 8])\n"
          ],
          "name": "stdout"
        }
      ]
    },
    {
      "cell_type": "markdown",
      "metadata": {
        "id": "4mqkYNgIqxGO"
      },
      "source": [
        "tensor에 하나의 값만 존재한다면 ``.item()`` 사용 -> 숫자값 얻음"
      ]
    },
    {
      "cell_type": "code",
      "metadata": {
        "id": "kFMzoMYyqxGP",
        "outputId": "f26e4555-d6c5-41db-d507-f740cf218453",
        "colab": {
          "base_uri": "https://localhost:8080/"
        }
      },
      "source": [
        "x = torch.randn(1)\n",
        "print(x)\n",
        "print(x.item())"
      ],
      "execution_count": 13,
      "outputs": [
        {
          "output_type": "stream",
          "text": [
            "tensor([-1.0470])\n",
            "-1.0470397472381592\n"
          ],
          "name": "stdout"
        }
      ]
    },
    {
      "cell_type": "markdown",
      "metadata": {
        "id": "2GZgkIr8qxGP"
      },
      "source": [
        "추가적인 Tensor 연산 확인하는 곳 :  \n",
        "http://pytorch.org/docs/torch\n"
      ]
    },
    {
      "cell_type": "markdown",
      "metadata": {
        "id": "tUYE-8BXMi3K"
      },
      "source": [
        "## NumPy 변환(Bridge)\r\n",
        "Torch Tensor를 numpy배열(array)로 변환 혹은 반대\r\n",
        "Torch Tensor와 numpy배열은 메모리 공간을 공유 = 하나를 변경하면 다른 하나도 변경 됨"
      ]
    },
    {
      "cell_type": "markdown",
      "metadata": {
        "id": "WmOkK27BNXIO"
      },
      "source": [
        "### Torch Tensor -> Numpy 배열 변환"
      ]
    },
    {
      "cell_type": "code",
      "metadata": {
        "id": "PIo1-ZmaqxGP",
        "outputId": "bfdc9d32-e5eb-40ac-a8fd-61dbb49dff23",
        "colab": {
          "base_uri": "https://localhost:8080/"
        }
      },
      "source": [
        "a = torch.ones(5)\n",
        "print(a)\n",
        "b = a.numpy()\n",
        "print(b)"
      ],
      "execution_count": 16,
      "outputs": [
        {
          "output_type": "stream",
          "text": [
            "tensor([1., 1., 1., 1., 1.])\n",
            "[1. 1. 1. 1. 1.]\n"
          ],
          "name": "stdout"
        }
      ]
    },
    {
      "cell_type": "markdown",
      "metadata": {
        "id": "svi8XeB6qxGP"
      },
      "source": [
        "numpy 배열값 변화 확인\n"
      ]
    },
    {
      "cell_type": "code",
      "metadata": {
        "id": "Gk1XVDTYqxGP",
        "outputId": "8b3fc53b-b0b3-4195-cdf5-f6a49b5a8199",
        "colab": {
          "base_uri": "https://localhost:8080/"
        }
      },
      "source": [
        "a.add_(1)\n",
        "print(a)\n",
        "print(b)"
      ],
      "execution_count": 17,
      "outputs": [
        {
          "output_type": "stream",
          "text": [
            "tensor([2., 2., 2., 2., 2.])\n",
            "[2. 2. 2. 2. 2.]\n"
          ],
          "name": "stdout"
        }
      ]
    },
    {
      "cell_type": "markdown",
      "metadata": {
        "id": "BBFrbIWlqxGQ"
      },
      "source": [
        "### Numpy 배열 -> Torch Tensor 변환\n",
        "np 배열을 변경하면 torch tensor 값이 자동 변경되는 것 확인"
      ]
    },
    {
      "cell_type": "code",
      "metadata": {
        "id": "tvkdmgAIqxGQ",
        "outputId": "c129e8dd-bd72-481a-8609-1acbe7a88641",
        "colab": {
          "base_uri": "https://localhost:8080/"
        }
      },
      "source": [
        "import numpy as np\n",
        "a = np.ones(5) # np로 정의\n",
        "b = torch.from_numpy(a) # torch 화\n",
        "np.add(a, 1, out=a) # 결과가 저장되는 위치. out=none 새로 할당된 배열 반환.\n",
        "print(a) # 원래 1인데 위에서 np+1을 함\n",
        "print(b) # np 결과값 따라 tensor에도 값이 더해짐"
      ],
      "execution_count": 18,
      "outputs": [
        {
          "output_type": "stream",
          "text": [
            "[2. 2. 2. 2. 2.]\n",
            "tensor([2., 2., 2., 2., 2.], dtype=torch.float64)\n"
          ],
          "name": "stdout"
        }
      ]
    },
    {
      "cell_type": "markdown",
      "metadata": {
        "id": "88YIi2R2qxGQ"
      },
      "source": [
        "CharTensor를 제외한  \n",
        "CPU 상의 모든 Tensor는 NumPy로 변환 가능  \n",
        "NumPy에서 Tensor로 반대 변환도 가능"
      ]
    },
    {
      "cell_type": "markdown",
      "metadata": {
        "id": "xFSWOCQsOvBN"
      },
      "source": [
        "## CUDA Tensors"
      ]
    },
    {
      "cell_type": "code",
      "metadata": {
        "id": "MXN7ydpOqxGQ"
      },
      "source": [
        "# 이 코드는 CUDA가 사용 가능한 환경에서만 실행됨\n",
        "# `torch.device`를 사용하여 tensor를 GPU 안팎으로 이동\n",
        "if torch.cuda.is_available():\n",
        "    device = torch.device(\"cuda\")          # CUDA device object(장치객체)로\n",
        "    y = torch.ones_like(x, device=device)  # GPU에 직접적으로 tensor 생성하거나\n",
        "    x = x.to(device)                       # .to(\"cuda\") 사용\n",
        "    z = x + y\n",
        "    print(z)\n",
        "    print(z.to(\"cpu\", torch.double))       # '.to'는 dtype도 함께 변경함"
      ],
      "execution_count": 19,
      "outputs": []
    },
    {
      "cell_type": "code",
      "metadata": {
        "id": "Q5Wf8Ft4PONe"
      },
      "source": [
        "출력\r\n",
        "tensor([1.8994], device='cuda:0')\r\n",
        "tensor([1.8994], dtype=torch.float64)"
      ],
      "execution_count": null,
      "outputs": []
    }
  ]
}